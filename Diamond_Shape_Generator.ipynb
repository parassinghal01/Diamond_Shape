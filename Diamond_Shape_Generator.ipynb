{
 "cells": [
  {
   "cell_type": "code",
   "execution_count": 1,
   "id": "ca67af87-b28b-418f-93c3-6d52eb35fbcb",
   "metadata": {},
   "outputs": [
    {
     "name": "stdin",
     "output_type": "stream",
     "text": [
      "Enter the number of rows:  10\n"
     ]
    },
    {
     "name": "stdout",
     "output_type": "stream",
     "text": [
      "         *\n",
      "        ***\n",
      "       *****\n",
      "      *******\n",
      "     *********\n",
      "    ***********\n",
      "   *************\n",
      "  ***************\n",
      " *****************\n",
      "*******************\n",
      " *****************\n",
      "  ***************\n",
      "   *************\n",
      "    ***********\n",
      "     *********\n",
      "      *******\n",
      "       *****\n",
      "        ***\n",
      "         *\n"
     ]
    }
   ],
   "source": [
    "def print_diamond(n):\n",
    "    # Print the top half of the diamond\n",
    "    for i in range(n):\n",
    "        # Print leading spaces\n",
    "        print(' ' * (n - i - 1), end='')\n",
    "\n",
    "        # Print the left half of the row\n",
    "        print('*' * (2 * i + 1))\n",
    "\n",
    "    # Print the bottom half of the diamond\n",
    "    for i in range(n - 2, -1, -1):\n",
    "        # Print leading spaces\n",
    "        print(' ' * (n - i - 1), end='')\n",
    "\n",
    "        # Print the left half of the row\n",
    "        print('*' * (2 * i + 1))\n",
    "\n",
    "# Test the function\n",
    "n = int(input(\"Enter the number of rows: \"))\n",
    "print_diamond(n)"
   ]
  },
  {
   "cell_type": "code",
   "execution_count": null,
   "id": "2a56965d-4bf0-4df0-8196-0b58932d37fe",
   "metadata": {},
   "outputs": [],
   "source": []
  }
 ],
 "metadata": {
  "kernelspec": {
   "display_name": "Python 3 (ipykernel)",
   "language": "python",
   "name": "python3"
  },
  "language_info": {
   "codemirror_mode": {
    "name": "ipython",
    "version": 3
   },
   "file_extension": ".py",
   "mimetype": "text/x-python",
   "name": "python",
   "nbconvert_exporter": "python",
   "pygments_lexer": "ipython3",
   "version": "3.11.5"
  }
 },
 "nbformat": 4,
 "nbformat_minor": 5
}
